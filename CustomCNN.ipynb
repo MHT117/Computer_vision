{
  "cells": [
    {
      "cell_type": "code",
      "execution_count": 33,
      "metadata": {
        "id": "WiYhS3jWbs5n"
      },
      "outputs": [],
      "source": [
        "import tensorflow as tf\n",
        "import numpy as np"
      ]
    },
    {
      "cell_type": "code",
      "execution_count": 34,
      "metadata": {},
      "outputs": [],
      "source": [
        "import os"
      ]
    },
    {
      "cell_type": "code",
      "execution_count": 35,
      "metadata": {
        "id": "pFqiF2a2X4Pp"
      },
      "outputs": [],
      "source": [
        "base_dir=\"H:\\\\thesis\\\\updated thesis\\\\cnn\\\\dataset\"\n",
        "# path = os.path.abspath(\"H:\\thesis\\updated thesis\\cnn\\dataset\")\n",
        "# print(path)"
      ]
    },
    {
      "cell_type": "code",
      "execution_count": 36,
      "metadata": {},
      "outputs": [
        {
          "data": {
            "text/plain": [
              "'h:\\\\thesis\\\\updated thesis\\\\cnn'"
            ]
          },
          "execution_count": 36,
          "metadata": {},
          "output_type": "execute_result"
        }
      ],
      "source": [
        "pwd"
      ]
    },
    {
      "cell_type": "code",
      "execution_count": 37,
      "metadata": {
        "colab": {
          "base_uri": "https://localhost:8080/"
        },
        "id": "BoHrHMMOX4Uh",
        "outputId": "a3e2db65-3a71-4fff-a0f9-4517a316a840"
      },
      "outputs": [
        {
          "name": "stdout",
          "output_type": "stream",
          "text": [
            "Found 4597 images belonging to 11 classes.\n",
            "Found 1143 images belonging to 11 classes.\n"
          ]
        }
      ],
      "source": [
        "IMAGE_SIZE=150\n",
        "BATCH_SIZE=32\n",
        "\n",
        "#pre=processing\n",
        "train_datagen=tf.keras.preprocessing.image.ImageDataGenerator(\n",
        "    rescale=1./255,\n",
        "    shear_range=0.2,\n",
        "    zoom_range=0.2,\n",
        "    horizontal_flip=True,\n",
        "    validation_split=0.2\n",
        "    )\n",
        "\n",
        "test_datagen=tf.keras.preprocessing.image.ImageDataGenerator(\n",
        "     rescale=1./255,\n",
        "     validation_split=0.2\n",
        ")\n",
        "\n",
        "train_datagen=train_datagen.flow_from_directory(\n",
        "    base_dir,\n",
        "    target_size=(IMAGE_SIZE,IMAGE_SIZE),\n",
        "    batch_size=BATCH_SIZE,\n",
        "    subset='training'\n",
        ")\n",
        "\n",
        "test_datagen=test_datagen.flow_from_directory(\n",
        "    base_dir,\n",
        "    target_size=(IMAGE_SIZE,IMAGE_SIZE),\n",
        "    batch_size=BATCH_SIZE,\n",
        "    subset='validation'\n",
        ")"
      ]
    },
    {
      "cell_type": "code",
      "execution_count": 38,
      "metadata": {},
      "outputs": [],
      "source": [
        "import PIL\n",
        "from PIL import Image"
      ]
    },
    {
      "cell_type": "code",
      "execution_count": 39,
      "metadata": {
        "id": "mw18kFy6YPPb"
      },
      "outputs": [],
      "source": [
        "cnn=tf.keras.Sequential()\n",
        "cnn.add(tf.keras.layers.Conv2D(filters=32,padding='same',strides=2,kernel_size=3,activation='relu',input_shape=(150,150,3)))\n",
        "cnn.add(tf.keras.layers.MaxPool2D(pool_size=2,strides=2))\n",
        "\n",
        "cnn.add(tf.keras.layers.Conv2D(filters=64,padding='same',strides=1,kernel_size=3,activation='relu'))\n",
        "cnn.add(tf.keras.layers.MaxPool2D(pool_size=2,strides=2))\n",
        "\n",
        "cnn.add(tf.keras.layers.Conv2D(filters=128,padding='same',strides=2,kernel_size=3,activation='relu'))\n",
        "cnn.add(tf.keras.layers.MaxPool2D(pool_size=2))\n",
        "\n",
        "cnn.add(tf.keras.layers.Conv2D(filters=1024,padding='same',strides=1,kernel_size=3,activation='relu'))\n",
        "cnn.add(tf.keras.layers.MaxPool2D(pool_size=2))\n",
        "\n",
        "\n",
        "cnn.add(tf.keras.layers.Flatten())\n",
        "cnn.add(tf.keras.layers.Dense(11,activation='softmax'))"
      ]
    },
    {
      "cell_type": "code",
      "execution_count": 40,
      "metadata": {
        "id": "yhM1PjylYPSa"
      },
      "outputs": [],
      "source": [
        "cnn.compile(optimizer=tf.keras.optimizers.Adam(),loss='categorical_crossentropy',metrics=['accuracy'])\n"
      ]
    },
    {
      "cell_type": "code",
      "execution_count": 41,
      "metadata": {},
      "outputs": [],
      "source": [
        "import scipy"
      ]
    },
    {
      "cell_type": "code",
      "execution_count": 42,
      "metadata": {
        "colab": {
          "base_uri": "https://localhost:8080/"
        },
        "id": "p6S9VD6bYPVZ",
        "outputId": "29fac6ed-62bf-4147-b92c-1accd7b10444"
      },
      "outputs": [
        {
          "name": "stdout",
          "output_type": "stream",
          "text": [
            "Epoch 1/300\n",
            "144/144 [==============================] - 35s 239ms/step - loss: 2.2796 - accuracy: 0.1858 - val_loss: 2.2026 - val_accuracy: 0.2336\n",
            "Epoch 2/300\n",
            "144/144 [==============================] - 35s 240ms/step - loss: 2.0480 - accuracy: 0.2965 - val_loss: 1.9771 - val_accuracy: 0.3263\n",
            "Epoch 3/300\n",
            "144/144 [==============================] - 35s 245ms/step - loss: 1.8445 - accuracy: 0.3737 - val_loss: 1.8655 - val_accuracy: 0.3473\n",
            "Epoch 4/300\n",
            "144/144 [==============================] - 33s 231ms/step - loss: 1.7006 - accuracy: 0.4242 - val_loss: 1.8522 - val_accuracy: 0.3683\n",
            "Epoch 5/300\n",
            "144/144 [==============================] - 33s 230ms/step - loss: 1.5957 - accuracy: 0.4642 - val_loss: 1.8448 - val_accuracy: 0.3648\n",
            "Epoch 6/300\n",
            "144/144 [==============================] - 33s 232ms/step - loss: 1.5026 - accuracy: 0.4894 - val_loss: 1.9531 - val_accuracy: 0.3465\n",
            "Epoch 7/300\n",
            "144/144 [==============================] - 33s 232ms/step - loss: 1.4279 - accuracy: 0.5099 - val_loss: 1.7216 - val_accuracy: 0.4173\n",
            "Epoch 8/300\n",
            "144/144 [==============================] - 33s 231ms/step - loss: 1.3181 - accuracy: 0.5519 - val_loss: 1.7958 - val_accuracy: 0.3937\n",
            "Epoch 9/300\n",
            "144/144 [==============================] - 33s 231ms/step - loss: 1.2482 - accuracy: 0.5854 - val_loss: 1.8328 - val_accuracy: 0.3955\n",
            "Epoch 10/300\n",
            "144/144 [==============================] - 34s 237ms/step - loss: 1.1424 - accuracy: 0.6058 - val_loss: 1.8036 - val_accuracy: 0.4436\n",
            "Epoch 11/300\n",
            "144/144 [==============================] - 34s 237ms/step - loss: 1.0625 - accuracy: 0.6382 - val_loss: 1.8462 - val_accuracy: 0.4304\n",
            "Epoch 12/300\n",
            "144/144 [==============================] - 34s 233ms/step - loss: 0.9498 - accuracy: 0.6868 - val_loss: 1.8202 - val_accuracy: 0.4619\n",
            "Epoch 13/300\n",
            "144/144 [==============================] - 33s 231ms/step - loss: 0.8563 - accuracy: 0.7096 - val_loss: 1.9119 - val_accuracy: 0.4549\n",
            "Epoch 14/300\n",
            "144/144 [==============================] - 33s 229ms/step - loss: 0.7492 - accuracy: 0.7533 - val_loss: 2.0594 - val_accuracy: 0.4313\n",
            "Epoch 15/300\n",
            "144/144 [==============================] - 33s 231ms/step - loss: 0.6808 - accuracy: 0.7799 - val_loss: 2.0461 - val_accuracy: 0.4628\n",
            "Epoch 16/300\n",
            "144/144 [==============================] - 34s 234ms/step - loss: 0.6371 - accuracy: 0.7896 - val_loss: 2.1247 - val_accuracy: 0.4479\n",
            "Epoch 17/300\n",
            "144/144 [==============================] - 34s 233ms/step - loss: 0.5685 - accuracy: 0.8136 - val_loss: 2.3203 - val_accuracy: 0.4794\n",
            "Epoch 18/300\n",
            "144/144 [==============================] - 34s 233ms/step - loss: 0.4759 - accuracy: 0.8414 - val_loss: 2.2828 - val_accuracy: 0.4882\n",
            "Epoch 19/300\n",
            "144/144 [==============================] - 34s 238ms/step - loss: 0.4443 - accuracy: 0.8525 - val_loss: 2.3269 - val_accuracy: 0.4689\n",
            "Epoch 20/300\n",
            "144/144 [==============================] - 33s 232ms/step - loss: 0.4033 - accuracy: 0.8660 - val_loss: 2.5046 - val_accuracy: 0.4654\n",
            "Epoch 21/300\n",
            "144/144 [==============================] - 33s 231ms/step - loss: 0.3769 - accuracy: 0.8730 - val_loss: 2.7851 - val_accuracy: 0.4497\n",
            "Epoch 22/300\n",
            "144/144 [==============================] - 33s 231ms/step - loss: 0.3396 - accuracy: 0.8888 - val_loss: 2.8471 - val_accuracy: 0.4628\n",
            "Epoch 23/300\n",
            "144/144 [==============================] - 33s 232ms/step - loss: 0.3077 - accuracy: 0.8978 - val_loss: 2.6281 - val_accuracy: 0.5039\n",
            "Epoch 24/300\n",
            "144/144 [==============================] - 33s 232ms/step - loss: 0.2973 - accuracy: 0.8973 - val_loss: 2.7792 - val_accuracy: 0.4812\n",
            "Epoch 25/300\n",
            "144/144 [==============================] - 34s 233ms/step - loss: 0.2344 - accuracy: 0.9273 - val_loss: 2.8500 - val_accuracy: 0.4777\n",
            "Epoch 26/300\n",
            "144/144 [==============================] - 33s 232ms/step - loss: 0.2471 - accuracy: 0.9234 - val_loss: 2.7059 - val_accuracy: 0.4952\n",
            "Epoch 27/300\n",
            "144/144 [==============================] - 33s 232ms/step - loss: 0.2007 - accuracy: 0.9367 - val_loss: 3.1892 - val_accuracy: 0.4436\n",
            "Epoch 28/300\n",
            "144/144 [==============================] - 34s 233ms/step - loss: 0.2015 - accuracy: 0.9402 - val_loss: 2.7870 - val_accuracy: 0.4777\n",
            "Epoch 29/300\n",
            "144/144 [==============================] - 34s 235ms/step - loss: 0.2097 - accuracy: 0.9350 - val_loss: 3.1652 - val_accuracy: 0.4471\n",
            "Epoch 30/300\n",
            "144/144 [==============================] - 34s 235ms/step - loss: 0.1780 - accuracy: 0.9402 - val_loss: 3.2221 - val_accuracy: 0.4908\n",
            "Epoch 31/300\n",
            "144/144 [==============================] - 33s 233ms/step - loss: 0.1866 - accuracy: 0.9437 - val_loss: 3.4186 - val_accuracy: 0.4777\n",
            "Epoch 32/300\n",
            "144/144 [==============================] - 33s 232ms/step - loss: 0.1715 - accuracy: 0.9452 - val_loss: 3.2613 - val_accuracy: 0.4812\n",
            "Epoch 33/300\n",
            "144/144 [==============================] - 34s 233ms/step - loss: 0.1615 - accuracy: 0.9497 - val_loss: 3.5280 - val_accuracy: 0.4724\n",
            "Epoch 34/300\n",
            "144/144 [==============================] - 34s 233ms/step - loss: 0.1734 - accuracy: 0.9432 - val_loss: 3.5145 - val_accuracy: 0.4348\n",
            "Epoch 35/300\n",
            "144/144 [==============================] - 33s 231ms/step - loss: 0.1685 - accuracy: 0.9452 - val_loss: 3.3420 - val_accuracy: 0.4768\n",
            "Epoch 36/300\n",
            "144/144 [==============================] - 34s 235ms/step - loss: 0.1735 - accuracy: 0.9467 - val_loss: 3.4020 - val_accuracy: 0.4733\n",
            "Epoch 37/300\n",
            "144/144 [==============================] - 34s 234ms/step - loss: 0.1518 - accuracy: 0.9495 - val_loss: 3.4099 - val_accuracy: 0.4654\n",
            "Epoch 38/300\n",
            "144/144 [==============================] - 35s 241ms/step - loss: 0.1570 - accuracy: 0.9491 - val_loss: 3.7073 - val_accuracy: 0.4331\n",
            "Epoch 39/300\n",
            "144/144 [==============================] - 35s 243ms/step - loss: 0.1417 - accuracy: 0.9545 - val_loss: 3.3974 - val_accuracy: 0.4856\n",
            "Epoch 40/300\n",
            "144/144 [==============================] - 35s 246ms/step - loss: 0.1204 - accuracy: 0.9621 - val_loss: 3.5244 - val_accuracy: 0.4829\n",
            "Epoch 41/300\n",
            "144/144 [==============================] - 35s 243ms/step - loss: 0.1197 - accuracy: 0.9656 - val_loss: 3.8413 - val_accuracy: 0.4724\n",
            "Epoch 42/300\n",
            "144/144 [==============================] - 38s 264ms/step - loss: 0.1403 - accuracy: 0.9558 - val_loss: 3.5881 - val_accuracy: 0.4672\n",
            "Epoch 43/300\n",
            "144/144 [==============================] - 38s 261ms/step - loss: 0.1403 - accuracy: 0.9569 - val_loss: 3.5438 - val_accuracy: 0.4987\n",
            "Epoch 44/300\n",
            "144/144 [==============================] - 36s 247ms/step - loss: 0.1007 - accuracy: 0.9667 - val_loss: 3.8641 - val_accuracy: 0.4654\n",
            "Epoch 45/300\n",
            "144/144 [==============================] - 35s 243ms/step - loss: 0.1157 - accuracy: 0.9652 - val_loss: 4.0428 - val_accuracy: 0.4777\n",
            "Epoch 46/300\n",
            "144/144 [==============================] - 35s 243ms/step - loss: 0.1085 - accuracy: 0.9674 - val_loss: 3.7907 - val_accuracy: 0.4952\n",
            "Epoch 47/300\n",
            "144/144 [==============================] - 35s 241ms/step - loss: 0.1379 - accuracy: 0.9585 - val_loss: 3.8216 - val_accuracy: 0.4926\n",
            "Epoch 48/300\n",
            "144/144 [==============================] - 35s 242ms/step - loss: 0.1491 - accuracy: 0.9537 - val_loss: 3.8420 - val_accuracy: 0.4549\n",
            "Epoch 49/300\n",
            "144/144 [==============================] - 34s 235ms/step - loss: 0.1040 - accuracy: 0.9682 - val_loss: 4.0335 - val_accuracy: 0.4803\n",
            "Epoch 50/300\n",
            "144/144 [==============================] - 34s 236ms/step - loss: 0.1638 - accuracy: 0.9548 - val_loss: 3.5021 - val_accuracy: 0.4742\n",
            "Epoch 51/300\n",
            "144/144 [==============================] - 34s 236ms/step - loss: 0.1303 - accuracy: 0.9587 - val_loss: 3.5263 - val_accuracy: 0.5022\n",
            "Epoch 52/300\n",
            "144/144 [==============================] - 35s 240ms/step - loss: 0.1320 - accuracy: 0.9595 - val_loss: 3.8749 - val_accuracy: 0.4829\n",
            "Epoch 53/300\n",
            "144/144 [==============================] - 34s 235ms/step - loss: 0.1106 - accuracy: 0.9661 - val_loss: 4.0648 - val_accuracy: 0.4794\n",
            "Epoch 54/300\n",
            "144/144 [==============================] - 34s 239ms/step - loss: 0.0914 - accuracy: 0.9717 - val_loss: 4.0742 - val_accuracy: 0.4891\n",
            "Epoch 55/300\n",
            "144/144 [==============================] - 34s 236ms/step - loss: 0.1350 - accuracy: 0.9569 - val_loss: 3.9816 - val_accuracy: 0.4541\n",
            "Epoch 56/300\n",
            "144/144 [==============================] - 34s 234ms/step - loss: 0.0994 - accuracy: 0.9702 - val_loss: 3.8931 - val_accuracy: 0.4794\n",
            "Epoch 57/300\n",
            "144/144 [==============================] - 34s 240ms/step - loss: 0.0878 - accuracy: 0.9741 - val_loss: 3.9697 - val_accuracy: 0.4681\n",
            "Epoch 58/300\n",
            "144/144 [==============================] - 35s 240ms/step - loss: 0.1084 - accuracy: 0.9676 - val_loss: 4.0707 - val_accuracy: 0.4786\n",
            "Epoch 59/300\n",
            "144/144 [==============================] - 35s 241ms/step - loss: 0.0791 - accuracy: 0.9750 - val_loss: 4.0601 - val_accuracy: 0.4812\n",
            "Epoch 60/300\n",
            "144/144 [==============================] - 34s 236ms/step - loss: 0.0907 - accuracy: 0.9726 - val_loss: 4.0569 - val_accuracy: 0.4856\n",
            "Epoch 61/300\n",
            "144/144 [==============================] - 35s 245ms/step - loss: 0.1039 - accuracy: 0.9711 - val_loss: 3.8178 - val_accuracy: 0.4864\n",
            "Epoch 62/300\n",
            "144/144 [==============================] - 34s 239ms/step - loss: 0.1232 - accuracy: 0.9628 - val_loss: 3.8593 - val_accuracy: 0.4864\n",
            "Epoch 63/300\n",
            "144/144 [==============================] - 35s 240ms/step - loss: 0.1177 - accuracy: 0.9630 - val_loss: 3.7065 - val_accuracy: 0.4899\n",
            "Epoch 64/300\n",
            "144/144 [==============================] - 35s 244ms/step - loss: 0.0951 - accuracy: 0.9680 - val_loss: 4.1084 - val_accuracy: 0.4453\n",
            "Epoch 65/300\n",
            "144/144 [==============================] - 35s 239ms/step - loss: 0.0826 - accuracy: 0.9769 - val_loss: 4.3662 - val_accuracy: 0.4838\n",
            "Epoch 66/300\n",
            "144/144 [==============================] - 35s 243ms/step - loss: 0.1341 - accuracy: 0.9600 - val_loss: 4.2724 - val_accuracy: 0.4908\n",
            "Epoch 67/300\n",
            "144/144 [==============================] - 34s 239ms/step - loss: 0.1202 - accuracy: 0.9632 - val_loss: 3.9193 - val_accuracy: 0.4794\n",
            "Epoch 68/300\n",
            "144/144 [==============================] - 35s 243ms/step - loss: 0.1199 - accuracy: 0.9678 - val_loss: 4.0294 - val_accuracy: 0.4724\n",
            "Epoch 69/300\n",
            "144/144 [==============================] - 36s 250ms/step - loss: 0.0715 - accuracy: 0.9793 - val_loss: 4.0281 - val_accuracy: 0.4768\n",
            "Epoch 70/300\n",
            "144/144 [==============================] - 35s 241ms/step - loss: 0.0610 - accuracy: 0.9796 - val_loss: 3.8270 - val_accuracy: 0.5109\n",
            "Epoch 71/300\n",
            "144/144 [==============================] - 35s 244ms/step - loss: 0.0851 - accuracy: 0.9728 - val_loss: 4.1605 - val_accuracy: 0.5048\n",
            "Epoch 72/300\n",
            "144/144 [==============================] - 36s 248ms/step - loss: 0.0914 - accuracy: 0.9700 - val_loss: 4.0396 - val_accuracy: 0.5022\n",
            "Epoch 73/300\n",
            "144/144 [==============================] - 35s 244ms/step - loss: 0.1121 - accuracy: 0.9685 - val_loss: 3.9426 - val_accuracy: 0.4917\n",
            "Epoch 74/300\n",
            "144/144 [==============================] - 36s 251ms/step - loss: 0.0942 - accuracy: 0.9715 - val_loss: 4.1966 - val_accuracy: 0.4917\n",
            "Epoch 75/300\n",
            "144/144 [==============================] - 35s 244ms/step - loss: 0.1003 - accuracy: 0.9687 - val_loss: 4.3954 - val_accuracy: 0.4672\n",
            "Epoch 76/300\n",
            "144/144 [==============================] - 36s 249ms/step - loss: 0.1047 - accuracy: 0.9665 - val_loss: 4.0696 - val_accuracy: 0.4934\n",
            "Epoch 77/300\n",
            "144/144 [==============================] - 36s 247ms/step - loss: 0.0855 - accuracy: 0.9750 - val_loss: 3.8294 - val_accuracy: 0.5144\n",
            "Epoch 78/300\n",
            "144/144 [==============================] - 36s 252ms/step - loss: 0.1079 - accuracy: 0.9676 - val_loss: 3.9245 - val_accuracy: 0.4768\n",
            "Epoch 79/300\n",
            "144/144 [==============================] - 34s 238ms/step - loss: 0.1041 - accuracy: 0.9737 - val_loss: 3.8310 - val_accuracy: 0.4978\n",
            "Epoch 80/300\n",
            "144/144 [==============================] - 35s 241ms/step - loss: 0.0620 - accuracy: 0.9780 - val_loss: 4.1923 - val_accuracy: 0.5031\n",
            "Epoch 81/300\n",
            "144/144 [==============================] - 36s 250ms/step - loss: 0.0745 - accuracy: 0.9785 - val_loss: 4.3945 - val_accuracy: 0.5066\n",
            "Epoch 82/300\n",
            "144/144 [==============================] - 35s 245ms/step - loss: 0.0803 - accuracy: 0.9756 - val_loss: 4.4167 - val_accuracy: 0.4943\n",
            "Epoch 83/300\n",
            "144/144 [==============================] - 35s 245ms/step - loss: 0.0861 - accuracy: 0.9728 - val_loss: 4.9522 - val_accuracy: 0.4707\n",
            "Epoch 84/300\n",
            "144/144 [==============================] - 36s 249ms/step - loss: 0.0929 - accuracy: 0.9752 - val_loss: 4.3266 - val_accuracy: 0.5039\n",
            "Epoch 85/300\n",
            "144/144 [==============================] - 35s 245ms/step - loss: 0.0588 - accuracy: 0.9813 - val_loss: 4.2459 - val_accuracy: 0.5206\n",
            "Epoch 86/300\n",
            "144/144 [==============================] - 36s 252ms/step - loss: 0.0828 - accuracy: 0.9780 - val_loss: 4.2212 - val_accuracy: 0.5013\n",
            "Epoch 87/300\n",
            "144/144 [==============================] - 36s 247ms/step - loss: 0.1161 - accuracy: 0.9652 - val_loss: 4.6884 - val_accuracy: 0.4567\n",
            "Epoch 88/300\n",
            "144/144 [==============================] - 36s 249ms/step - loss: 0.0822 - accuracy: 0.9759 - val_loss: 4.3345 - val_accuracy: 0.4873\n",
            "Epoch 89/300\n",
            "144/144 [==============================] - 35s 246ms/step - loss: 0.0703 - accuracy: 0.9785 - val_loss: 4.2449 - val_accuracy: 0.5004\n",
            "Epoch 90/300\n",
            "144/144 [==============================] - 36s 246ms/step - loss: 0.0942 - accuracy: 0.9745 - val_loss: 4.6236 - val_accuracy: 0.4873\n",
            "Epoch 91/300\n",
            "144/144 [==============================] - 35s 244ms/step - loss: 0.0896 - accuracy: 0.9739 - val_loss: 4.4703 - val_accuracy: 0.4943\n",
            "Epoch 92/300\n",
            "144/144 [==============================] - 35s 245ms/step - loss: 0.0766 - accuracy: 0.9791 - val_loss: 4.2156 - val_accuracy: 0.5179\n",
            "Epoch 93/300\n",
            "144/144 [==============================] - 35s 245ms/step - loss: 0.0535 - accuracy: 0.9837 - val_loss: 4.5323 - val_accuracy: 0.4943\n",
            "Epoch 94/300\n",
            "144/144 [==============================] - 36s 249ms/step - loss: 0.0852 - accuracy: 0.9748 - val_loss: 4.4225 - val_accuracy: 0.5048\n",
            "Epoch 95/300\n",
            "144/144 [==============================] - 35s 247ms/step - loss: 0.0652 - accuracy: 0.9793 - val_loss: 4.2807 - val_accuracy: 0.4978\n",
            "Epoch 96/300\n",
            "144/144 [==============================] - 35s 243ms/step - loss: 0.0895 - accuracy: 0.9730 - val_loss: 4.6396 - val_accuracy: 0.4829\n",
            "Epoch 97/300\n",
            "144/144 [==============================] - 35s 244ms/step - loss: 0.0754 - accuracy: 0.9780 - val_loss: 4.5018 - val_accuracy: 0.4672\n",
            "Epoch 98/300\n",
            "144/144 [==============================] - 35s 243ms/step - loss: 0.0846 - accuracy: 0.9765 - val_loss: 4.3162 - val_accuracy: 0.4646\n",
            "Epoch 99/300\n",
            "144/144 [==============================] - 36s 247ms/step - loss: 0.1102 - accuracy: 0.9693 - val_loss: 4.5688 - val_accuracy: 0.4698\n",
            "Epoch 100/300\n",
            "144/144 [==============================] - 36s 248ms/step - loss: 0.0823 - accuracy: 0.9752 - val_loss: 4.3773 - val_accuracy: 0.4821\n",
            "Epoch 101/300\n",
            "144/144 [==============================] - 37s 253ms/step - loss: 0.0558 - accuracy: 0.9837 - val_loss: 4.6789 - val_accuracy: 0.4829\n",
            "Epoch 102/300\n",
            "144/144 [==============================] - 35s 242ms/step - loss: 0.0726 - accuracy: 0.9780 - val_loss: 4.9673 - val_accuracy: 0.4724\n",
            "Epoch 103/300\n",
            "144/144 [==============================] - 36s 246ms/step - loss: 0.0740 - accuracy: 0.9796 - val_loss: 4.9578 - val_accuracy: 0.4672\n",
            "Epoch 104/300\n",
            "144/144 [==============================] - 36s 249ms/step - loss: 0.0929 - accuracy: 0.9754 - val_loss: 4.9022 - val_accuracy: 0.4637\n",
            "Epoch 105/300\n",
            "144/144 [==============================] - 36s 251ms/step - loss: 0.0818 - accuracy: 0.9735 - val_loss: 5.2043 - val_accuracy: 0.4427\n",
            "Epoch 106/300\n",
            "144/144 [==============================] - 36s 251ms/step - loss: 0.0784 - accuracy: 0.9782 - val_loss: 4.7787 - val_accuracy: 0.4576\n",
            "Epoch 107/300\n",
            "144/144 [==============================] - 36s 247ms/step - loss: 0.0473 - accuracy: 0.9852 - val_loss: 4.6167 - val_accuracy: 0.4742\n",
            "Epoch 108/300\n",
            "144/144 [==============================] - 35s 245ms/step - loss: 0.0491 - accuracy: 0.9874 - val_loss: 4.7726 - val_accuracy: 0.4838\n",
            "Epoch 109/300\n",
            "144/144 [==============================] - 35s 245ms/step - loss: 0.1010 - accuracy: 0.9743 - val_loss: 4.7943 - val_accuracy: 0.4724\n",
            "Epoch 110/300\n",
            "144/144 [==============================] - 35s 245ms/step - loss: 0.0930 - accuracy: 0.9728 - val_loss: 4.6799 - val_accuracy: 0.4698\n",
            "Epoch 111/300\n",
            "144/144 [==============================] - 36s 248ms/step - loss: 0.0598 - accuracy: 0.9811 - val_loss: 4.6281 - val_accuracy: 0.4943\n",
            "Epoch 112/300\n",
            "144/144 [==============================] - 36s 249ms/step - loss: 0.0627 - accuracy: 0.9809 - val_loss: 4.8322 - val_accuracy: 0.4829\n",
            "Epoch 113/300\n",
            "144/144 [==============================] - 35s 244ms/step - loss: 0.0625 - accuracy: 0.9822 - val_loss: 4.7037 - val_accuracy: 0.4856\n",
            "Epoch 114/300\n",
            "144/144 [==============================] - 36s 249ms/step - loss: 0.0792 - accuracy: 0.9769 - val_loss: 4.6258 - val_accuracy: 0.4917\n",
            "Epoch 115/300\n",
            "144/144 [==============================] - 35s 246ms/step - loss: 0.0980 - accuracy: 0.9728 - val_loss: 4.6838 - val_accuracy: 0.4821\n",
            "Epoch 116/300\n",
            "144/144 [==============================] - 35s 243ms/step - loss: 0.1041 - accuracy: 0.9676 - val_loss: 4.3963 - val_accuracy: 0.5004\n",
            "Epoch 117/300\n",
            "144/144 [==============================] - 36s 251ms/step - loss: 0.0539 - accuracy: 0.9809 - val_loss: 4.3460 - val_accuracy: 0.4943\n",
            "Epoch 118/300\n",
            "144/144 [==============================] - 36s 246ms/step - loss: 0.0700 - accuracy: 0.9800 - val_loss: 4.4374 - val_accuracy: 0.5066\n",
            "Epoch 119/300\n",
            "144/144 [==============================] - 35s 241ms/step - loss: 0.0966 - accuracy: 0.9732 - val_loss: 4.7333 - val_accuracy: 0.5066\n",
            "Epoch 120/300\n",
            "144/144 [==============================] - 36s 247ms/step - loss: 0.0610 - accuracy: 0.9837 - val_loss: 4.3817 - val_accuracy: 0.4926\n",
            "Epoch 121/300\n",
            "144/144 [==============================] - 35s 244ms/step - loss: 0.0491 - accuracy: 0.9850 - val_loss: 4.5377 - val_accuracy: 0.4952\n",
            "Epoch 122/300\n",
            "144/144 [==============================] - 35s 245ms/step - loss: 0.0534 - accuracy: 0.9839 - val_loss: 4.7589 - val_accuracy: 0.4794\n",
            "Epoch 123/300\n",
            "144/144 [==============================] - 35s 245ms/step - loss: 0.0633 - accuracy: 0.9796 - val_loss: 4.9075 - val_accuracy: 0.4934\n",
            "Epoch 124/300\n",
            "144/144 [==============================] - 35s 246ms/step - loss: 0.0903 - accuracy: 0.9748 - val_loss: 5.1332 - val_accuracy: 0.4759\n",
            "Epoch 125/300\n",
            "144/144 [==============================] - 35s 246ms/step - loss: 0.0816 - accuracy: 0.9759 - val_loss: 4.6495 - val_accuracy: 0.4593\n",
            "Epoch 126/300\n",
            "144/144 [==============================] - 35s 245ms/step - loss: 0.0995 - accuracy: 0.9737 - val_loss: 4.4113 - val_accuracy: 0.4917\n",
            "Epoch 127/300\n",
            "144/144 [==============================] - 36s 247ms/step - loss: 0.0785 - accuracy: 0.9765 - val_loss: 4.5789 - val_accuracy: 0.4926\n",
            "Epoch 128/300\n",
            "144/144 [==============================] - 36s 246ms/step - loss: 0.0497 - accuracy: 0.9859 - val_loss: 4.6345 - val_accuracy: 0.5004\n",
            "Epoch 129/300\n",
            "144/144 [==============================] - 36s 245ms/step - loss: 0.0654 - accuracy: 0.9800 - val_loss: 5.5592 - val_accuracy: 0.4514\n",
            "Epoch 130/300\n",
            "144/144 [==============================] - 36s 249ms/step - loss: 0.0886 - accuracy: 0.9782 - val_loss: 4.6526 - val_accuracy: 0.4742\n",
            "Epoch 131/300\n",
            "144/144 [==============================] - 35s 246ms/step - loss: 0.0700 - accuracy: 0.9787 - val_loss: 4.2406 - val_accuracy: 0.4908\n",
            "Epoch 132/300\n",
            "144/144 [==============================] - 35s 242ms/step - loss: 0.0569 - accuracy: 0.9828 - val_loss: 4.6940 - val_accuracy: 0.4917\n",
            "Epoch 133/300\n",
            "144/144 [==============================] - 35s 243ms/step - loss: 0.0486 - accuracy: 0.9848 - val_loss: 4.5379 - val_accuracy: 0.5048\n",
            "Epoch 134/300\n",
            "144/144 [==============================] - 36s 249ms/step - loss: 0.0626 - accuracy: 0.9796 - val_loss: 4.9889 - val_accuracy: 0.4829\n",
            "Epoch 135/300\n",
            "144/144 [==============================] - 35s 247ms/step - loss: 0.0972 - accuracy: 0.9730 - val_loss: 4.8204 - val_accuracy: 0.5022\n",
            "Epoch 136/300\n",
            "144/144 [==============================] - 35s 246ms/step - loss: 0.0539 - accuracy: 0.9828 - val_loss: 5.2303 - val_accuracy: 0.4829\n",
            "Epoch 137/300\n",
            "144/144 [==============================] - 35s 244ms/step - loss: 0.0689 - accuracy: 0.9791 - val_loss: 5.2768 - val_accuracy: 0.4759\n",
            "Epoch 138/300\n",
            "144/144 [==============================] - 35s 244ms/step - loss: 0.0940 - accuracy: 0.9717 - val_loss: 4.8688 - val_accuracy: 0.5039\n",
            "Epoch 139/300\n",
            "144/144 [==============================] - 35s 245ms/step - loss: 0.0648 - accuracy: 0.9815 - val_loss: 5.4250 - val_accuracy: 0.4838\n",
            "Epoch 140/300\n",
            "144/144 [==============================] - 36s 247ms/step - loss: 0.0610 - accuracy: 0.9822 - val_loss: 4.8518 - val_accuracy: 0.4934\n",
            "Epoch 141/300\n",
            "144/144 [==============================] - 36s 248ms/step - loss: 0.0449 - accuracy: 0.9843 - val_loss: 4.6773 - val_accuracy: 0.5039\n",
            "Epoch 142/300\n",
            "144/144 [==============================] - 35s 245ms/step - loss: 0.0424 - accuracy: 0.9876 - val_loss: 5.0035 - val_accuracy: 0.4926\n",
            "Epoch 143/300\n",
            "144/144 [==============================] - 36s 247ms/step - loss: 0.0405 - accuracy: 0.9891 - val_loss: 4.7759 - val_accuracy: 0.5066\n",
            "Epoch 144/300\n",
            "144/144 [==============================] - 36s 247ms/step - loss: 0.0526 - accuracy: 0.9863 - val_loss: 4.7074 - val_accuracy: 0.4908\n",
            "Epoch 145/300\n",
            "144/144 [==============================] - 35s 246ms/step - loss: 0.0751 - accuracy: 0.9772 - val_loss: 5.4118 - val_accuracy: 0.4838\n",
            "Epoch 146/300\n",
            "144/144 [==============================] - 35s 241ms/step - loss: 0.0882 - accuracy: 0.9767 - val_loss: 4.9768 - val_accuracy: 0.4917\n",
            "Epoch 147/300\n",
            "144/144 [==============================] - 36s 248ms/step - loss: 0.0841 - accuracy: 0.9748 - val_loss: 5.3298 - val_accuracy: 0.4724\n",
            "Epoch 148/300\n",
            "144/144 [==============================] - 35s 243ms/step - loss: 0.0767 - accuracy: 0.9782 - val_loss: 5.0122 - val_accuracy: 0.4908\n",
            "Epoch 149/300\n",
            "144/144 [==============================] - 35s 242ms/step - loss: 0.0326 - accuracy: 0.9906 - val_loss: 5.1326 - val_accuracy: 0.5031\n",
            "Epoch 150/300\n",
            "144/144 [==============================] - 36s 248ms/step - loss: 0.0646 - accuracy: 0.9856 - val_loss: 4.9678 - val_accuracy: 0.5022\n",
            "Epoch 151/300\n",
            "144/144 [==============================] - 36s 248ms/step - loss: 0.0454 - accuracy: 0.9861 - val_loss: 5.1739 - val_accuracy: 0.4794\n",
            "Epoch 152/300\n",
            "144/144 [==============================] - 35s 246ms/step - loss: 0.0774 - accuracy: 0.9791 - val_loss: 5.3185 - val_accuracy: 0.4969\n",
            "Epoch 153/300\n",
            "144/144 [==============================] - 36s 251ms/step - loss: 0.0465 - accuracy: 0.9863 - val_loss: 5.2131 - val_accuracy: 0.4864\n",
            "Epoch 154/300\n",
            "144/144 [==============================] - 35s 244ms/step - loss: 0.0311 - accuracy: 0.9917 - val_loss: 5.3812 - val_accuracy: 0.4733\n",
            "Epoch 155/300\n",
            "144/144 [==============================] - 35s 245ms/step - loss: 0.0801 - accuracy: 0.9802 - val_loss: 4.5491 - val_accuracy: 0.4891\n",
            "Epoch 156/300\n",
            "144/144 [==============================] - 35s 240ms/step - loss: 0.0702 - accuracy: 0.9785 - val_loss: 4.5439 - val_accuracy: 0.4917\n",
            "Epoch 157/300\n",
            "144/144 [==============================] - 36s 248ms/step - loss: 0.0350 - accuracy: 0.9891 - val_loss: 4.9140 - val_accuracy: 0.4803\n",
            "Epoch 158/300\n",
            "144/144 [==============================] - 35s 245ms/step - loss: 0.0592 - accuracy: 0.9850 - val_loss: 5.2196 - val_accuracy: 0.4803\n",
            "Epoch 159/300\n",
            "144/144 [==============================] - 35s 244ms/step - loss: 0.0688 - accuracy: 0.9796 - val_loss: 5.0130 - val_accuracy: 0.4926\n",
            "Epoch 160/300\n",
            "144/144 [==============================] - 36s 250ms/step - loss: 0.0873 - accuracy: 0.9748 - val_loss: 4.8478 - val_accuracy: 0.5022\n",
            "Epoch 161/300\n",
            "144/144 [==============================] - 35s 246ms/step - loss: 0.0588 - accuracy: 0.9830 - val_loss: 5.0917 - val_accuracy: 0.4777\n",
            "Epoch 162/300\n",
            "144/144 [==============================] - 35s 246ms/step - loss: 0.0638 - accuracy: 0.9817 - val_loss: 5.0238 - val_accuracy: 0.4812\n",
            "Epoch 163/300\n",
            "144/144 [==============================] - 34s 236ms/step - loss: 0.0634 - accuracy: 0.9843 - val_loss: 4.9541 - val_accuracy: 0.4777\n",
            "Epoch 164/300\n",
            "144/144 [==============================] - 35s 241ms/step - loss: 0.0466 - accuracy: 0.9841 - val_loss: 5.1249 - val_accuracy: 0.4978\n",
            "Epoch 165/300\n",
            "144/144 [==============================] - 35s 244ms/step - loss: 0.0380 - accuracy: 0.9867 - val_loss: 5.6583 - val_accuracy: 0.4987\n",
            "Epoch 166/300\n",
            "144/144 [==============================] - 34s 240ms/step - loss: 0.0625 - accuracy: 0.9809 - val_loss: 5.5795 - val_accuracy: 0.4891\n",
            "Epoch 167/300\n",
            "144/144 [==============================] - 15s 104ms/step - loss: 0.0755 - accuracy: 0.9804 - val_loss: 4.6628 - val_accuracy: 0.5136\n",
            "Epoch 168/300\n",
            "144/144 [==============================] - 35s 241ms/step - loss: 0.0427 - accuracy: 0.9883 - val_loss: 5.1479 - val_accuracy: 0.5057\n",
            "Epoch 169/300\n",
            "144/144 [==============================] - 35s 241ms/step - loss: 0.0694 - accuracy: 0.9796 - val_loss: 5.2534 - val_accuracy: 0.5101\n",
            "Epoch 170/300\n",
            "144/144 [==============================] - 35s 243ms/step - loss: 0.0436 - accuracy: 0.9852 - val_loss: 5.0719 - val_accuracy: 0.4952\n",
            "Epoch 171/300\n",
            "144/144 [==============================] - 35s 240ms/step - loss: 0.0464 - accuracy: 0.9876 - val_loss: 5.4811 - val_accuracy: 0.4882\n",
            "Epoch 172/300\n",
            "144/144 [==============================] - 35s 244ms/step - loss: 0.0449 - accuracy: 0.9863 - val_loss: 5.3436 - val_accuracy: 0.5171\n",
            "Epoch 173/300\n",
            "144/144 [==============================] - 34s 236ms/step - loss: 0.0536 - accuracy: 0.9839 - val_loss: 5.3537 - val_accuracy: 0.4952\n",
            "Epoch 174/300\n",
            "144/144 [==============================] - 35s 240ms/step - loss: 0.1030 - accuracy: 0.9774 - val_loss: 5.2192 - val_accuracy: 0.4899\n",
            "Epoch 175/300\n",
            "144/144 [==============================] - 34s 237ms/step - loss: 0.1078 - accuracy: 0.9759 - val_loss: 5.1839 - val_accuracy: 0.4786\n",
            "Epoch 176/300\n",
            "144/144 [==============================] - 34s 237ms/step - loss: 0.0605 - accuracy: 0.9828 - val_loss: 5.1647 - val_accuracy: 0.4829\n",
            "Epoch 177/300\n",
            "144/144 [==============================] - 34s 237ms/step - loss: 0.0502 - accuracy: 0.9859 - val_loss: 4.9500 - val_accuracy: 0.4934\n",
            "Epoch 178/300\n",
            "144/144 [==============================] - 35s 241ms/step - loss: 0.0593 - accuracy: 0.9846 - val_loss: 5.2686 - val_accuracy: 0.4847\n",
            "Epoch 179/300\n",
            "144/144 [==============================] - 35s 242ms/step - loss: 0.0712 - accuracy: 0.9804 - val_loss: 5.0529 - val_accuracy: 0.4943\n",
            "Epoch 180/300\n",
            "144/144 [==============================] - 34s 238ms/step - loss: 0.0572 - accuracy: 0.9854 - val_loss: 4.6212 - val_accuracy: 0.5048\n",
            "Epoch 181/300\n",
            "144/144 [==============================] - 34s 235ms/step - loss: 0.0448 - accuracy: 0.9859 - val_loss: 4.9062 - val_accuracy: 0.4847\n",
            "Epoch 182/300\n",
            "144/144 [==============================] - 34s 238ms/step - loss: 0.0405 - accuracy: 0.9854 - val_loss: 5.6141 - val_accuracy: 0.4996\n",
            "Epoch 183/300\n",
            "144/144 [==============================] - 35s 238ms/step - loss: 0.0676 - accuracy: 0.9811 - val_loss: 5.3259 - val_accuracy: 0.5031\n",
            "Epoch 184/300\n",
            "144/144 [==============================] - 35s 246ms/step - loss: 0.0819 - accuracy: 0.9772 - val_loss: 5.3348 - val_accuracy: 0.5066\n",
            "Epoch 185/300\n",
            "144/144 [==============================] - 35s 244ms/step - loss: 0.0349 - accuracy: 0.9883 - val_loss: 5.7326 - val_accuracy: 0.4864\n",
            "Epoch 186/300\n",
            "144/144 [==============================] - 35s 245ms/step - loss: 0.0513 - accuracy: 0.9856 - val_loss: 4.8592 - val_accuracy: 0.5074\n",
            "Epoch 187/300\n",
            "144/144 [==============================] - 35s 244ms/step - loss: 0.0479 - accuracy: 0.9854 - val_loss: 5.5214 - val_accuracy: 0.4917\n",
            "Epoch 188/300\n",
            "144/144 [==============================] - 35s 240ms/step - loss: 0.0725 - accuracy: 0.9846 - val_loss: 5.1839 - val_accuracy: 0.5048\n",
            "Epoch 189/300\n",
            "144/144 [==============================] - 35s 245ms/step - loss: 0.0537 - accuracy: 0.9865 - val_loss: 5.3896 - val_accuracy: 0.5162\n",
            "Epoch 190/300\n",
            "144/144 [==============================] - 36s 249ms/step - loss: 0.0547 - accuracy: 0.9835 - val_loss: 5.5097 - val_accuracy: 0.4873\n",
            "Epoch 191/300\n",
            "144/144 [==============================] - 35s 244ms/step - loss: 0.0381 - accuracy: 0.9869 - val_loss: 5.4473 - val_accuracy: 0.5118\n",
            "Epoch 192/300\n",
            "144/144 [==============================] - 35s 242ms/step - loss: 0.0521 - accuracy: 0.9828 - val_loss: 5.7411 - val_accuracy: 0.4926\n",
            "Epoch 193/300\n",
            "144/144 [==============================] - 34s 237ms/step - loss: 0.0475 - accuracy: 0.9876 - val_loss: 5.6812 - val_accuracy: 0.4899\n",
            "Epoch 194/300\n",
            "144/144 [==============================] - 35s 241ms/step - loss: 0.0590 - accuracy: 0.9850 - val_loss: 5.3211 - val_accuracy: 0.5109\n",
            "Epoch 195/300\n",
            "144/144 [==============================] - 35s 240ms/step - loss: 0.0532 - accuracy: 0.9869 - val_loss: 5.3868 - val_accuracy: 0.4934\n",
            "Epoch 196/300\n",
            "144/144 [==============================] - 35s 245ms/step - loss: 0.0683 - accuracy: 0.9815 - val_loss: 5.1295 - val_accuracy: 0.4987\n",
            "Epoch 197/300\n",
            "144/144 [==============================] - 35s 246ms/step - loss: 0.0426 - accuracy: 0.9887 - val_loss: 5.0256 - val_accuracy: 0.5171\n",
            "Epoch 198/300\n",
            "144/144 [==============================] - 35s 243ms/step - loss: 0.0374 - accuracy: 0.9909 - val_loss: 5.2825 - val_accuracy: 0.5066\n",
            "Epoch 199/300\n",
            "144/144 [==============================] - 35s 243ms/step - loss: 0.0517 - accuracy: 0.9837 - val_loss: 5.2526 - val_accuracy: 0.5101\n",
            "Epoch 200/300\n",
            "144/144 [==============================] - 35s 242ms/step - loss: 0.0466 - accuracy: 0.9856 - val_loss: 5.6649 - val_accuracy: 0.4969\n",
            "Epoch 201/300\n",
            "144/144 [==============================] - 35s 243ms/step - loss: 0.0594 - accuracy: 0.9830 - val_loss: 5.2403 - val_accuracy: 0.5004\n",
            "Epoch 202/300\n",
            "144/144 [==============================] - 36s 248ms/step - loss: 0.0723 - accuracy: 0.9837 - val_loss: 5.9647 - val_accuracy: 0.4716\n",
            "Epoch 203/300\n",
            "144/144 [==============================] - 35s 243ms/step - loss: 0.0771 - accuracy: 0.9772 - val_loss: 5.5402 - val_accuracy: 0.4961\n",
            "Epoch 204/300\n",
            "144/144 [==============================] - 35s 241ms/step - loss: 0.0599 - accuracy: 0.9822 - val_loss: 5.7101 - val_accuracy: 0.4978\n",
            "Epoch 205/300\n",
            "144/144 [==============================] - 35s 246ms/step - loss: 0.0292 - accuracy: 0.9915 - val_loss: 5.6031 - val_accuracy: 0.5004\n",
            "Epoch 206/300\n",
            "144/144 [==============================] - 35s 246ms/step - loss: 0.0732 - accuracy: 0.9804 - val_loss: 5.9891 - val_accuracy: 0.4821\n",
            "Epoch 207/300\n",
            "144/144 [==============================] - 35s 240ms/step - loss: 0.0498 - accuracy: 0.9869 - val_loss: 5.2056 - val_accuracy: 0.5031\n",
            "Epoch 208/300\n",
            "144/144 [==============================] - 36s 251ms/step - loss: 0.0332 - accuracy: 0.9915 - val_loss: 5.4573 - val_accuracy: 0.5039\n",
            "Epoch 209/300\n",
            "144/144 [==============================] - 36s 249ms/step - loss: 0.0601 - accuracy: 0.9817 - val_loss: 5.3552 - val_accuracy: 0.5057\n",
            "Epoch 210/300\n",
            "144/144 [==============================] - 36s 248ms/step - loss: 0.0957 - accuracy: 0.9785 - val_loss: 5.3061 - val_accuracy: 0.5048\n",
            "Epoch 211/300\n",
            "144/144 [==============================] - 36s 246ms/step - loss: 0.0655 - accuracy: 0.9817 - val_loss: 5.3708 - val_accuracy: 0.4899\n",
            "Epoch 212/300\n",
            "144/144 [==============================] - 36s 250ms/step - loss: 0.0599 - accuracy: 0.9815 - val_loss: 5.3139 - val_accuracy: 0.4829\n",
            "Epoch 213/300\n",
            "144/144 [==============================] - 35s 243ms/step - loss: 0.0351 - accuracy: 0.9896 - val_loss: 5.1771 - val_accuracy: 0.5109\n",
            "Epoch 214/300\n",
            "144/144 [==============================] - 36s 250ms/step - loss: 0.0458 - accuracy: 0.9861 - val_loss: 5.8930 - val_accuracy: 0.5022\n",
            "Epoch 215/300\n",
            "144/144 [==============================] - 35s 242ms/step - loss: 0.0575 - accuracy: 0.9839 - val_loss: 5.7680 - val_accuracy: 0.4812\n",
            "Epoch 216/300\n",
            "144/144 [==============================] - 36s 250ms/step - loss: 0.0527 - accuracy: 0.9852 - val_loss: 5.8172 - val_accuracy: 0.4821\n",
            "Epoch 217/300\n",
            "144/144 [==============================] - 35s 243ms/step - loss: 0.0752 - accuracy: 0.9782 - val_loss: 5.5077 - val_accuracy: 0.4917\n",
            "Epoch 218/300\n",
            "144/144 [==============================] - 35s 245ms/step - loss: 0.0692 - accuracy: 0.9819 - val_loss: 5.5673 - val_accuracy: 0.5004\n",
            "Epoch 219/300\n",
            "144/144 [==============================] - 35s 243ms/step - loss: 0.0463 - accuracy: 0.9861 - val_loss: 6.3026 - val_accuracy: 0.4891\n",
            "Epoch 220/300\n",
            "144/144 [==============================] - 36s 250ms/step - loss: 0.0417 - accuracy: 0.9874 - val_loss: 5.9724 - val_accuracy: 0.4891\n",
            "Epoch 221/300\n",
            "144/144 [==============================] - 34s 237ms/step - loss: 0.0473 - accuracy: 0.9867 - val_loss: 5.3826 - val_accuracy: 0.5092\n",
            "Epoch 222/300\n",
            "144/144 [==============================] - 35s 241ms/step - loss: 0.0487 - accuracy: 0.9876 - val_loss: 6.4029 - val_accuracy: 0.4864\n",
            "Epoch 223/300\n",
            "144/144 [==============================] - 34s 236ms/step - loss: 0.0719 - accuracy: 0.9809 - val_loss: 6.2306 - val_accuracy: 0.4873\n",
            "Epoch 224/300\n",
            "144/144 [==============================] - 34s 235ms/step - loss: 0.0370 - accuracy: 0.9900 - val_loss: 5.8202 - val_accuracy: 0.4978\n",
            "Epoch 225/300\n",
            "144/144 [==============================] - 34s 236ms/step - loss: 0.0511 - accuracy: 0.9874 - val_loss: 5.8044 - val_accuracy: 0.5074\n",
            "Epoch 226/300\n",
            "144/144 [==============================] - 34s 236ms/step - loss: 0.0671 - accuracy: 0.9863 - val_loss: 5.7925 - val_accuracy: 0.4829\n",
            "Epoch 227/300\n",
            "144/144 [==============================] - 34s 236ms/step - loss: 0.0389 - accuracy: 0.9891 - val_loss: 6.0114 - val_accuracy: 0.4926\n",
            "Epoch 228/300\n",
            "144/144 [==============================] - 34s 234ms/step - loss: 0.0386 - accuracy: 0.9885 - val_loss: 5.6127 - val_accuracy: 0.4996\n",
            "Epoch 229/300\n",
            "144/144 [==============================] - 34s 237ms/step - loss: 0.0694 - accuracy: 0.9837 - val_loss: 5.8121 - val_accuracy: 0.4952\n",
            "Epoch 230/300\n",
            "144/144 [==============================] - 34s 234ms/step - loss: 0.0510 - accuracy: 0.9832 - val_loss: 5.6406 - val_accuracy: 0.5092\n",
            "Epoch 231/300\n",
            "144/144 [==============================] - 34s 237ms/step - loss: 0.0341 - accuracy: 0.9920 - val_loss: 5.4507 - val_accuracy: 0.4899\n",
            "Epoch 232/300\n",
            "144/144 [==============================] - 34s 239ms/step - loss: 0.0294 - accuracy: 0.9909 - val_loss: 6.0018 - val_accuracy: 0.4917\n",
            "Epoch 233/300\n",
            "144/144 [==============================] - 34s 237ms/step - loss: 0.0423 - accuracy: 0.9869 - val_loss: 5.9476 - val_accuracy: 0.4943\n",
            "Epoch 234/300\n",
            "144/144 [==============================] - 34s 235ms/step - loss: 0.0504 - accuracy: 0.9843 - val_loss: 6.2853 - val_accuracy: 0.4751\n",
            "Epoch 235/300\n",
            "144/144 [==============================] - 35s 240ms/step - loss: 0.0670 - accuracy: 0.9809 - val_loss: 6.1772 - val_accuracy: 0.5022\n",
            "Epoch 236/300\n",
            "144/144 [==============================] - 34s 238ms/step - loss: 0.0431 - accuracy: 0.9874 - val_loss: 6.6476 - val_accuracy: 0.4829\n",
            "Epoch 237/300\n",
            "144/144 [==============================] - 34s 237ms/step - loss: 0.0527 - accuracy: 0.9856 - val_loss: 6.4576 - val_accuracy: 0.4856\n",
            "Epoch 238/300\n",
            "144/144 [==============================] - 34s 236ms/step - loss: 0.0924 - accuracy: 0.9743 - val_loss: 5.8349 - val_accuracy: 0.4759\n",
            "Epoch 239/300\n",
            "144/144 [==============================] - 34s 234ms/step - loss: 0.0860 - accuracy: 0.9789 - val_loss: 6.0136 - val_accuracy: 0.4733\n",
            "Epoch 240/300\n",
            "144/144 [==============================] - 34s 235ms/step - loss: 0.0614 - accuracy: 0.9843 - val_loss: 5.4977 - val_accuracy: 0.4926\n",
            "Epoch 241/300\n",
            "144/144 [==============================] - 34s 237ms/step - loss: 0.0520 - accuracy: 0.9874 - val_loss: 5.3052 - val_accuracy: 0.4899\n",
            "Epoch 242/300\n",
            "144/144 [==============================] - 35s 242ms/step - loss: 0.0312 - accuracy: 0.9920 - val_loss: 5.4953 - val_accuracy: 0.5022\n",
            "Epoch 243/300\n",
            "144/144 [==============================] - 33s 233ms/step - loss: 0.0419 - accuracy: 0.9869 - val_loss: 5.5347 - val_accuracy: 0.4891\n",
            "Epoch 244/300\n",
            "144/144 [==============================] - 33s 232ms/step - loss: 0.0447 - accuracy: 0.9867 - val_loss: 5.6692 - val_accuracy: 0.4891\n",
            "Epoch 245/300\n",
            "144/144 [==============================] - 34s 233ms/step - loss: 0.0386 - accuracy: 0.9896 - val_loss: 5.2184 - val_accuracy: 0.4969\n",
            "Epoch 246/300\n",
            "144/144 [==============================] - 33s 232ms/step - loss: 0.0322 - accuracy: 0.9904 - val_loss: 5.7757 - val_accuracy: 0.5031\n",
            "Epoch 247/300\n",
            "144/144 [==============================] - 33s 232ms/step - loss: 0.0302 - accuracy: 0.9922 - val_loss: 5.7432 - val_accuracy: 0.4987\n",
            "Epoch 248/300\n",
            "144/144 [==============================] - 33s 233ms/step - loss: 0.0819 - accuracy: 0.9832 - val_loss: 5.8071 - val_accuracy: 0.4856\n",
            "Epoch 249/300\n",
            "144/144 [==============================] - 34s 234ms/step - loss: 0.0537 - accuracy: 0.9861 - val_loss: 6.3833 - val_accuracy: 0.4847\n",
            "Epoch 250/300\n",
            "144/144 [==============================] - 34s 236ms/step - loss: 0.0376 - accuracy: 0.9909 - val_loss: 6.9298 - val_accuracy: 0.4794\n",
            "Epoch 251/300\n",
            "144/144 [==============================] - 33s 231ms/step - loss: 0.0751 - accuracy: 0.9809 - val_loss: 6.5486 - val_accuracy: 0.4926\n",
            "Epoch 252/300\n",
            "144/144 [==============================] - 34s 234ms/step - loss: 0.0612 - accuracy: 0.9832 - val_loss: 5.9614 - val_accuracy: 0.5048\n",
            "Epoch 253/300\n",
            "144/144 [==============================] - 33s 232ms/step - loss: 0.0806 - accuracy: 0.9789 - val_loss: 5.4172 - val_accuracy: 0.5004\n",
            "Epoch 254/300\n",
            "144/144 [==============================] - 33s 232ms/step - loss: 0.0480 - accuracy: 0.9885 - val_loss: 5.6182 - val_accuracy: 0.4698\n",
            "Epoch 255/300\n",
            "144/144 [==============================] - 34s 233ms/step - loss: 0.0519 - accuracy: 0.9863 - val_loss: 5.5857 - val_accuracy: 0.4926\n",
            "Epoch 256/300\n",
            "144/144 [==============================] - 33s 232ms/step - loss: 0.0583 - accuracy: 0.9854 - val_loss: 6.5613 - val_accuracy: 0.4794\n",
            "Epoch 257/300\n",
            "144/144 [==============================] - 34s 233ms/step - loss: 0.0467 - accuracy: 0.9878 - val_loss: 5.5939 - val_accuracy: 0.5136\n",
            "Epoch 258/300\n",
            "144/144 [==============================] - 33s 231ms/step - loss: 0.0435 - accuracy: 0.9898 - val_loss: 5.7607 - val_accuracy: 0.4917\n",
            "Epoch 259/300\n",
            "144/144 [==============================] - 33s 230ms/step - loss: 0.0361 - accuracy: 0.9913 - val_loss: 5.6234 - val_accuracy: 0.5074\n",
            "Epoch 260/300\n",
            "144/144 [==============================] - 34s 234ms/step - loss: 0.0518 - accuracy: 0.9876 - val_loss: 5.6887 - val_accuracy: 0.4838\n",
            "Epoch 261/300\n",
            "144/144 [==============================] - 34s 233ms/step - loss: 0.0511 - accuracy: 0.9869 - val_loss: 6.0341 - val_accuracy: 0.5162\n",
            "Epoch 262/300\n",
            "144/144 [==============================] - 33s 232ms/step - loss: 0.0620 - accuracy: 0.9828 - val_loss: 6.1034 - val_accuracy: 0.4891\n",
            "Epoch 263/300\n",
            "144/144 [==============================] - 33s 232ms/step - loss: 0.0929 - accuracy: 0.9793 - val_loss: 6.5675 - val_accuracy: 0.4794\n",
            "Epoch 264/300\n",
            "144/144 [==============================] - 33s 232ms/step - loss: 0.0736 - accuracy: 0.9802 - val_loss: 6.5110 - val_accuracy: 0.4794\n",
            "Epoch 265/300\n",
            "144/144 [==============================] - 33s 231ms/step - loss: 0.0352 - accuracy: 0.9896 - val_loss: 6.0462 - val_accuracy: 0.4829\n",
            "Epoch 266/300\n",
            "144/144 [==============================] - 34s 234ms/step - loss: 0.0488 - accuracy: 0.9843 - val_loss: 5.9535 - val_accuracy: 0.5022\n",
            "Epoch 267/300\n",
            "144/144 [==============================] - 33s 231ms/step - loss: 0.0342 - accuracy: 0.9904 - val_loss: 5.8883 - val_accuracy: 0.5136\n",
            "Epoch 268/300\n",
            "144/144 [==============================] - 33s 231ms/step - loss: 0.0468 - accuracy: 0.9865 - val_loss: 5.8405 - val_accuracy: 0.5144\n",
            "Epoch 269/300\n",
            "144/144 [==============================] - 34s 233ms/step - loss: 0.0534 - accuracy: 0.9865 - val_loss: 6.5766 - val_accuracy: 0.5004\n",
            "Epoch 270/300\n",
            "144/144 [==============================] - 33s 232ms/step - loss: 0.0635 - accuracy: 0.9848 - val_loss: 5.8708 - val_accuracy: 0.5048\n",
            "Epoch 271/300\n",
            "144/144 [==============================] - 33s 231ms/step - loss: 0.0431 - accuracy: 0.9874 - val_loss: 6.1741 - val_accuracy: 0.4864\n",
            "Epoch 272/300\n",
            "144/144 [==============================] - 33s 232ms/step - loss: 0.0495 - accuracy: 0.9861 - val_loss: 6.2456 - val_accuracy: 0.4943\n",
            "Epoch 273/300\n",
            "144/144 [==============================] - 33s 232ms/step - loss: 0.0532 - accuracy: 0.9856 - val_loss: 6.2856 - val_accuracy: 0.4873\n",
            "Epoch 274/300\n",
            "144/144 [==============================] - 33s 232ms/step - loss: 0.0303 - accuracy: 0.9915 - val_loss: 6.7413 - val_accuracy: 0.4847\n",
            "Epoch 275/300\n",
            "144/144 [==============================] - 33s 232ms/step - loss: 0.0434 - accuracy: 0.9883 - val_loss: 6.6068 - val_accuracy: 0.4987\n",
            "Epoch 276/300\n",
            "144/144 [==============================] - 34s 233ms/step - loss: 0.0579 - accuracy: 0.9854 - val_loss: 6.1383 - val_accuracy: 0.5101\n",
            "Epoch 277/300\n",
            "144/144 [==============================] - 33s 232ms/step - loss: 0.0480 - accuracy: 0.9863 - val_loss: 5.9660 - val_accuracy: 0.5013\n",
            "Epoch 278/300\n",
            "144/144 [==============================] - 33s 232ms/step - loss: 0.0436 - accuracy: 0.9889 - val_loss: 6.2378 - val_accuracy: 0.4899\n",
            "Epoch 279/300\n",
            "144/144 [==============================] - 33s 231ms/step - loss: 0.0495 - accuracy: 0.9889 - val_loss: 5.9233 - val_accuracy: 0.4969\n",
            "Epoch 280/300\n",
            "144/144 [==============================] - 33s 232ms/step - loss: 0.0485 - accuracy: 0.9854 - val_loss: 6.5649 - val_accuracy: 0.5022\n",
            "Epoch 281/300\n",
            "144/144 [==============================] - 33s 232ms/step - loss: 0.0636 - accuracy: 0.9856 - val_loss: 7.2788 - val_accuracy: 0.4768\n",
            "Epoch 282/300\n",
            "144/144 [==============================] - 33s 232ms/step - loss: 0.0471 - accuracy: 0.9848 - val_loss: 6.5080 - val_accuracy: 0.4987\n",
            "Epoch 283/300\n",
            "144/144 [==============================] - 34s 232ms/step - loss: 0.0830 - accuracy: 0.9822 - val_loss: 5.9623 - val_accuracy: 0.5022\n",
            "Epoch 284/300\n",
            "144/144 [==============================] - 33s 231ms/step - loss: 0.0499 - accuracy: 0.9878 - val_loss: 5.9951 - val_accuracy: 0.5057\n",
            "Epoch 285/300\n",
            "144/144 [==============================] - 33s 232ms/step - loss: 0.0441 - accuracy: 0.9874 - val_loss: 6.1364 - val_accuracy: 0.5022\n",
            "Epoch 286/300\n",
            "144/144 [==============================] - 33s 232ms/step - loss: 0.0460 - accuracy: 0.9902 - val_loss: 6.6897 - val_accuracy: 0.4917\n",
            "Epoch 287/300\n",
            "144/144 [==============================] - 34s 233ms/step - loss: 0.0286 - accuracy: 0.9909 - val_loss: 6.1995 - val_accuracy: 0.5136\n",
            "Epoch 288/300\n",
            "144/144 [==============================] - 33s 231ms/step - loss: 0.0317 - accuracy: 0.9911 - val_loss: 6.6633 - val_accuracy: 0.4943\n",
            "Epoch 289/300\n",
            "144/144 [==============================] - 33s 232ms/step - loss: 0.0458 - accuracy: 0.9880 - val_loss: 6.5359 - val_accuracy: 0.5004\n",
            "Epoch 290/300\n",
            "144/144 [==============================] - 33s 230ms/step - loss: 0.0619 - accuracy: 0.9839 - val_loss: 6.6173 - val_accuracy: 0.4838\n",
            "Epoch 291/300\n",
            "144/144 [==============================] - 33s 230ms/step - loss: 0.0869 - accuracy: 0.9782 - val_loss: 6.8210 - val_accuracy: 0.4978\n",
            "Epoch 292/300\n",
            "144/144 [==============================] - 33s 230ms/step - loss: 0.0684 - accuracy: 0.9850 - val_loss: 7.1642 - val_accuracy: 0.4882\n",
            "Epoch 293/300\n",
            "144/144 [==============================] - 33s 232ms/step - loss: 0.0496 - accuracy: 0.9861 - val_loss: 6.6378 - val_accuracy: 0.4829\n",
            "Epoch 294/300\n",
            "144/144 [==============================] - 34s 233ms/step - loss: 0.0655 - accuracy: 0.9822 - val_loss: 6.7466 - val_accuracy: 0.5066\n",
            "Epoch 295/300\n",
            "144/144 [==============================] - 33s 232ms/step - loss: 0.0351 - accuracy: 0.9917 - val_loss: 7.0002 - val_accuracy: 0.4803\n",
            "Epoch 296/300\n",
            "144/144 [==============================] - 34s 233ms/step - loss: 0.0457 - accuracy: 0.9911 - val_loss: 6.7553 - val_accuracy: 0.4926\n",
            "Epoch 297/300\n",
            "144/144 [==============================] - 34s 231ms/step - loss: 0.0486 - accuracy: 0.9885 - val_loss: 6.1861 - val_accuracy: 0.5118\n",
            "Epoch 298/300\n",
            "144/144 [==============================] - 33s 233ms/step - loss: 0.0337 - accuracy: 0.9915 - val_loss: 6.1422 - val_accuracy: 0.4978\n",
            "Epoch 299/300\n",
            "144/144 [==============================] - 33s 233ms/step - loss: 0.0675 - accuracy: 0.9839 - val_loss: 6.3707 - val_accuracy: 0.4926\n",
            "Epoch 300/300\n",
            "144/144 [==============================] - 33s 230ms/step - loss: 0.0277 - accuracy: 0.9937 - val_loss: 6.7659 - val_accuracy: 0.4856\n"
          ]
        }
      ],
      "source": [
        "history=cnn.fit(train_datagen,epochs=300,validation_data=test_datagen)\n"
      ]
    },
    {
      "cell_type": "code",
      "execution_count": 43,
      "metadata": {
        "colab": {
          "base_uri": "https://localhost:8080/"
        },
        "id": "5n_7wPACYPYU",
        "outputId": "808555fd-6477-41cd-9a83-bf36f0629b76"
      },
      "outputs": [
        {
          "name": "stdout",
          "output_type": "stream",
          "text": [
            "Model: \"sequential_5\"\n",
            "_________________________________________________________________\n",
            " Layer (type)                Output Shape              Param #   \n",
            "=================================================================\n",
            " conv2d_20 (Conv2D)          (None, 75, 75, 32)        896       \n",
            "                                                                 \n",
            " max_pooling2d_20 (MaxPoolin  (None, 37, 37, 32)       0         \n",
            " g2D)                                                            \n",
            "                                                                 \n",
            " conv2d_21 (Conv2D)          (None, 37, 37, 64)        18496     \n",
            "                                                                 \n",
            " max_pooling2d_21 (MaxPoolin  (None, 18, 18, 64)       0         \n",
            " g2D)                                                            \n",
            "                                                                 \n",
            " conv2d_22 (Conv2D)          (None, 9, 9, 128)         73856     \n",
            "                                                                 \n",
            " max_pooling2d_22 (MaxPoolin  (None, 4, 4, 128)        0         \n",
            " g2D)                                                            \n",
            "                                                                 \n",
            " conv2d_23 (Conv2D)          (None, 4, 4, 1024)        1180672   \n",
            "                                                                 \n",
            " max_pooling2d_23 (MaxPoolin  (None, 2, 2, 1024)       0         \n",
            " g2D)                                                            \n",
            "                                                                 \n",
            " flatten_4 (Flatten)         (None, 4096)              0         \n",
            "                                                                 \n",
            " dense_4 (Dense)             (None, 11)                45067     \n",
            "                                                                 \n",
            "=================================================================\n",
            "Total params: 1,318,987\n",
            "Trainable params: 1,318,987\n",
            "Non-trainable params: 0\n",
            "_________________________________________________________________\n"
          ]
        },
        {
          "name": "stderr",
          "output_type": "stream",
          "text": [
            "WARNING:absl:Found untraced functions such as _jit_compiled_convolution_op, _jit_compiled_convolution_op, _jit_compiled_convolution_op, _jit_compiled_convolution_op while saving (showing 4 of 4). These functions will not be directly callable after loading.\n"
          ]
        },
        {
          "name": "stdout",
          "output_type": "stream",
          "text": [
            "INFO:tensorflow:Assets written to: H:\\thesis\\updated thesis\\cnn\\weights\\assets\n"
          ]
        },
        {
          "name": "stderr",
          "output_type": "stream",
          "text": [
            "INFO:tensorflow:Assets written to: H:\\thesis\\updated thesis\\cnn\\weights\\assets\n"
          ]
        }
      ],
      "source": [
        "cnn.summary()\n",
        "cnn.save(\"H:\\\\thesis\\\\updated thesis\\\\cnn\\\\weights\")"
      ]
    },
    {
      "cell_type": "code",
      "execution_count": 44,
      "metadata": {
        "id": "1AtgxxbM79BM"
      },
      "outputs": [],
      "source": [
        "from keras.models import load_model\n",
        "cnn.save(\"/content/best_model.h5\")"
      ]
    },
    {
      "cell_type": "code",
      "execution_count": 45,
      "metadata": {
        "colab": {
          "base_uri": "https://localhost:8080/"
        },
        "id": "59tPN8uMX4XJ",
        "outputId": "371d5f33-8ba9-4caf-889d-a18f7f33ed3d"
      },
      "outputs": [
        {
          "data": {
            "text/plain": [
              "dict_keys(['loss', 'accuracy', 'val_loss', 'val_accuracy'])"
            ]
          },
          "execution_count": 45,
          "metadata": {},
          "output_type": "execute_result"
        }
      ],
      "source": [
        "history=history.history\n",
        "history.keys()"
      ]
    },
    {
      "cell_type": "code",
      "execution_count": 46,
      "metadata": {
        "id": "ub_Rh63X9Nzd"
      },
      "outputs": [],
      "source": [
        "import matplotlib.pyplot as plt\n"
      ]
    },
    {
      "cell_type": "code",
      "execution_count": 47,
      "metadata": {
        "colab": {
          "base_uri": "https://localhost:8080/",
          "height": 281
        },
        "id": "l653N9CfX4Zu",
        "outputId": "9bd804fa-7008-4020-90a5-1de9a391a67e"
      },
      "outputs": [
        {
          "data": {
            "image/png": "[encoded data removed]",
            "text/plain": [
              "<Figure size 640x480 with 1 Axes>"
            ]
          },
          "metadata": {},
          "output_type": "display_data"
        }
      ],
      "source": [
        "# plt.plot(history['loss'])\n",
        "plt.plot(history['accuracy'])\n",
        "# plt.plot(history['val_loss'])\n",
        "plt.plot(history['val_accuracy'])\n",
        "\n",
        "plt.title(\"Accuracy vs val_accuracy\")\n",
        "plt.show()"
      ]
    },
    {
      "cell_type": "code",
      "execution_count": 48,
      "metadata": {
        "colab": {
          "base_uri": "https://localhost:8080/",
          "height": 281
        },
        "id": "J52sAbxm9rsD",
        "outputId": "16a06f65-5340-4b0b-ab2d-ce45076bb11b"
      },
      "outputs": [
        {
          "data": {
            "image/png": "[encoded data removed]",
            "text/plain": [
              "<Figure size 640x480 with 1 Axes>"
            ]
          },
          "metadata": {},
          "output_type": "display_data"
        }
      ],
      "source": [
        "plt.plot(history['loss'])\n",
        "# plt.plot(history['accuracy'])\n",
        "plt.plot(history['val_loss'])\n",
        "# plt.plot(history['val_accuracy'])\n",
        "\n",
        "plt.title(\"loss vs val_loss\")\n",
        "plt.show()"
      ]
    },
    {
      "cell_type": "code",
      "execution_count": 49,
      "metadata": {
        "colab": {
          "base_uri": "https://localhost:8080/"
        },
        "id": "hne8BpBOX4eN",
        "outputId": "29596758-6516-4d43-9f8a-c7d170408806"
      },
      "outputs": [
        {
          "name": "stderr",
          "output_type": "stream",
          "text": [
            "ERROR: Could not find a version that satisfies the requirement load_img (from versions: none)\n",
            "ERROR: No matching distribution found for load_img\n",
            "ERROR: Could not find a version that satisfies the requirement img_to_array (from versions: none)\n",
            "ERROR: No matching distribution found for img_to_array\n"
          ]
        }
      ],
      "source": [
        "from keras.preprocessing import image\n",
        "# from tensorflow.keras.preprocessing import image\n",
        "# from keras.preprocessing.image import ImageDataGenerator , load_img , img_to_array\n",
        "!pip install load_img\n",
        "!pip install img_to_array"
      ]
    },
    {
      "cell_type": "code",
      "execution_count": 50,
      "metadata": {
        "colab": {
          "base_uri": "https://localhost:8080/"
        },
        "id": "yaoWtgHgDj_e",
        "outputId": "184b02a1-309e-4cf2-9394-6b6181d39744"
      },
      "outputs": [
        {
          "name": "stdout",
          "output_type": "stream",
          "text": [
            "{'baby': 0, 'bottle': 1, 'box': 2, 'defect': 3, 'electronics': 4, 'illegal': 5, 'luggage': 6, 'medicine': 7, 'metal': 8, 'pet': 9, 'sport': 10}\n"
          ]
        }
      ],
      "source": [
        "print (train_datagen.class_indices)\n",
        "\n",
        "labels = '\\n'.join(sorted(train_datagen.class_indices.keys()))\n",
        "\n",
        "with open('labels.txt', 'w') as f:\n",
        "  f.write(labels)\n",
        "\n",
        "\n"
      ]
    },
    {
      "cell_type": "code",
      "execution_count": 51,
      "metadata": {
        "id": "2Yk3EKTLFatl"
      },
      "outputs": [],
      "source": [
        "path = 'labels.txt'\n",
        "label = np.array(open(path).read().splitlines())"
      ]
    },
    {
      "cell_type": "code",
      "execution_count": 53,
      "metadata": {
        "colab": {
          "base_uri": "https://localhost:8080/",
          "height": 269
        },
        "id": "G1xgKFc2Iarm",
        "outputId": "9f463133-3583-4e9b-d257-a4d7824ecb9e"
      },
      "outputs": [
        {
          "ename": "ValueError",
          "evalue": "Sample larger than population or is negative",
          "output_type": "error",
          "traceback": [
            "\u001b[1;31m---------------------------------------------------------------------------\u001b[0m",
            "\u001b[1;31mValueError\u001b[0m                                Traceback (most recent call last)",
            "Cell \u001b[1;32mIn[53], line 14\u001b[0m\n\u001b[0;32m     11\u001b[0m base_path \u001b[39m=\u001b[39m \u001b[39m'\u001b[39m\u001b[39m/content/drive/MyDrive/1_final_dataset/Train_Test/Test\u001b[39m\u001b[39m'\u001b[39m\n\u001b[0;32m     12\u001b[0m img_list \u001b[39m=\u001b[39m glob\u001b[39m.\u001b[39mglob(os\u001b[39m.\u001b[39mpath\u001b[39m.\u001b[39mjoin(base_path, \u001b[39m'\u001b[39m\u001b[39m*/*.jpg\u001b[39m\u001b[39m'\u001b[39m))\n\u001b[1;32m---> 14\u001b[0m \u001b[39mfor\u001b[39;00m i, img_path \u001b[39min\u001b[39;00m \u001b[39menumerate\u001b[39m(random\u001b[39m.\u001b[39;49msample(img_list, \u001b[39m6\u001b[39;49m)):\n\u001b[0;32m     15\u001b[0m     img \u001b[39m=\u001b[39m image\u001b[39m.\u001b[39mload_img(img_path, target_size\u001b[39m=\u001b[39m(\u001b[39m224\u001b[39m, \u001b[39m224\u001b[39m))\n\u001b[0;32m     16\u001b[0m     img \u001b[39m=\u001b[39m image\u001b[39m.\u001b[39mimg_to_array(img, dtype\u001b[39m=\u001b[39mnp\u001b[39m.\u001b[39muint8)\n",
            "File \u001b[1;32mc:\\Users\\noob1\\anaconda3\\envs\\tf_gpu\\lib\\random.py:482\u001b[0m, in \u001b[0;36mRandom.sample\u001b[1;34m(self, population, k, counts)\u001b[0m\n\u001b[0;32m    480\u001b[0m randbelow \u001b[39m=\u001b[39m \u001b[39mself\u001b[39m\u001b[39m.\u001b[39m_randbelow\n\u001b[0;32m    481\u001b[0m \u001b[39mif\u001b[39;00m \u001b[39mnot\u001b[39;00m \u001b[39m0\u001b[39m \u001b[39m<\u001b[39m\u001b[39m=\u001b[39m k \u001b[39m<\u001b[39m\u001b[39m=\u001b[39m n:\n\u001b[1;32m--> 482\u001b[0m     \u001b[39mraise\u001b[39;00m \u001b[39mValueError\u001b[39;00m(\u001b[39m\"\u001b[39m\u001b[39mSample larger than population or is negative\u001b[39m\u001b[39m\"\u001b[39m)\n\u001b[0;32m    483\u001b[0m result \u001b[39m=\u001b[39m [\u001b[39mNone\u001b[39;00m] \u001b[39m*\u001b[39m k\n\u001b[0;32m    484\u001b[0m setsize \u001b[39m=\u001b[39m \u001b[39m21\u001b[39m        \u001b[39m# size of a small set minus size of an empty list\u001b[39;00m\n",
            "\u001b[1;31mValueError\u001b[0m: Sample larger than population or is negative"
          ]
        }
      ],
      "source": [
        "# path ='/content/drive/MyDrive/1_final_dataset/only images_all class/luggage/luggage(100).jpg'\n",
        "# img=image.load_img(path, target_size=(224,224))\n",
        "\n",
        "# i=image.img_to_array\n",
        "import numpy as np\n",
        "import glob\n",
        "import os,  random\n",
        "from keras.preprocessing import image\n",
        "import matplotlib.pyplot as plt\n",
        "\n",
        "base_path = '/content/drive/MyDrive/1_final_dataset/Train_Test/Test'\n",
        "img_list = glob.glob(os.path.join(base_path, '*/*.jpg'))\n",
        "\n",
        "for i, img_path in enumerate(random.sample(img_list, 6)):\n",
        "    img = image.load_img(img_path, target_size=(224, 224))\n",
        "    img = image.img_to_array(img, dtype=np.uint8)\n",
        "    plt.subplot(2, 3, i+1)\n",
        "    plt.imshow(img.squeeze())\n"
      ]
    },
    {
      "cell_type": "code",
      "execution_count": null,
      "metadata": {
        "colab": {
          "base_uri": "https://localhost:8080/",
          "height": 324
        },
        "id": "Akr7azHz_eIt",
        "outputId": "fee8cf6f-e825-4ede-cb7e-27110c97ff36"
      },
      "outputs": [
        {
          "name": "stdout",
          "output_type": "stream",
          "text": [
            "1/1 [==============================] - 0s 30ms/step\n",
            "(1, 12)\n",
            "baby\n"
          ]
        },
        {
          "data": {
            "image/png": "[encoded data removed]",
            "text/plain": [
              "<Figure size 432x288 with 1 Axes>"
            ]
          },
          "metadata": {
            "needs_background": "light"
          },
          "output_type": "display_data"
        }
      ],
      "source": [
        "img_path = '/content/drive/MyDrive/train test/test/baby/baby(549).jpg'\n",
        "\n",
        "img=np.array(img)\n",
        "img = image.load_img(img_path, target_size=(224, 224))\n",
        "img = image.img_to_array(img, dtype=np.uint8)\n",
        "plt.imshow(img.squeeze())\n",
        "p=cnn.predict(img[np.newaxis])\n",
        "print(p.shape)\n",
        "predicted_class = label[np.argmax(p)]\n",
        "print(predicted_class)\n"
      ]
    },
    {
      "cell_type": "code",
      "execution_count": null,
      "metadata": {
        "id": "a2CLDFX-JK-y"
      },
      "outputs": [],
      "source": [
        "# plt.imshow(img.squeeze())\n",
        "# p=history.predict(img[np.newaxis])\n",
        "# print(p.shape)\n",
        "# predicted_class = label[np.argmax(p)]\n",
        "# print(predicted_class)\n",
        "\n",
        "# if prediction ==0:\n",
        "#   print(\"It is a image of baby\")\n",
        "# elif prediction ==1:\n",
        "#   print(\"It is a image of bottle\")\n",
        "# elif prediction ==2:\n",
        "#   print(\"It is a image of box\")\n",
        "# elif prediction ==3:\n",
        "#   print(\"It is a image of defect\")\n",
        "# elif prediction ==4:\n",
        "#   print(\"It is a image of electronics\")\n",
        "# elif prediction ==5:\n",
        "#   print(\"It is a image of illegal\")\n",
        "# elif prediction ==6:\n",
        "#   print(\"It is a image of luggage\")\n",
        "# elif prediction ==7:\n",
        "#   print(\"It is a image of medicine\")\n",
        "# elif prediction ==8:\n",
        "#   print(\"It is a image of metal\")\n",
        "# elif prediction ==9:\n",
        "#   print(\"It is a image of person\")\n",
        "# elif prediction ==10:\n",
        "#   print(\"It is a image of pet\")\n",
        "# else:\n",
        "#   print(\"It is a image of sport\")\n"
      ]
    }
  ],
  "metadata": {
    "accelerator": "GPU",
    "colab": {
      "provenance": []
    },
    "gpuClass": "standard",
    "kernelspec": {
      "display_name": "tf_gpu",
      "language": "python",
      "name": "python3"
    },
    "language_info": {
      "codemirror_mode": {
        "name": "ipython",
        "version": 3
      },
      "file_extension": ".py",
      "mimetype": "text/x-python",
      "name": "python",
      "nbconvert_exporter": "python",
      "pygments_lexer": "ipython3",
      "version": "3.10.0"
    },
    "vscode": {
      "interpreter": {
        "hash": "a4977801377732810711828f8cefac418b526182d88a0eaae75afc97294a6d05"
      }
    }
  },
  "nbformat": 4,
  "nbformat_minor": 0
}
